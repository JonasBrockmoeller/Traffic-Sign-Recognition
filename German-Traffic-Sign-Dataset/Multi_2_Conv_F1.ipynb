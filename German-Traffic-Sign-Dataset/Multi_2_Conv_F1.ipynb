{
 "cells": [
  {
   "cell_type": "code",
   "execution_count": 128,
   "id": "b756563c989e431a",
   "metadata": {
    "ExecuteTime": {
     "end_time": "2023-12-01T14:04:03.832713Z",
     "start_time": "2023-12-01T14:04:03.830987Z"
    },
    "collapsed": false,
    "jupyter": {
     "outputs_hidden": false
    }
   },
   "outputs": [],
   "source": [
    "import pickle\n",
    "\n",
    "import numpy as np\n",
    "from matplotlib import pyplot as plt\n",
    "from pandas import read_csv"
   ]
  },
  {
   "cell_type": "code",
   "execution_count": 129,
   "id": "c3b4b314232cde08",
   "metadata": {
    "ExecuteTime": {
     "end_time": "2023-12-01T14:04:03.981739Z",
     "start_time": "2023-12-01T14:04:03.841955Z"
    },
    "tags": []
   },
   "outputs": [
    {
     "name": "stdout",
     "output_type": "stream",
     "text": [
      "Loading data...\n"
     ]
    }
   ],
   "source": [
    "print(\"Loading data...\")\n",
    "training_file = './Data/train.p'\n",
    "\n",
    "sign_names = read_csv(\"./Data/signname.csv\").values[:, 1]\n",
    "\n",
    "with open(training_file, mode='rb') as f:\n",
    "    train = pickle.load(f)\n",
    "images_train, labels_train = train['features'], train['labels']\n",
    "\n",
    "for i in range(len(labels_train)):\n",
    " \n",
    "    # replace hardik with shardul\n",
    "    if labels_train[i] < 9:\n",
    "        labels_train[i] = 0\n",
    "    elif labels_train[i] >= 9:\n",
    "        labels_train[i] = 1"
   ]
  },
  {
   "cell_type": "code",
   "execution_count": 131,
   "id": "39729e3f88b6bcba",
   "metadata": {
    "ExecuteTime": {
     "end_time": "2023-12-01T14:04:04.191851Z",
     "start_time": "2023-12-01T14:04:04.089819Z"
    },
    "collapsed": false,
    "jupyter": {
     "outputs_hidden": false
    }
   },
   "outputs": [],
   "source": [
    "import tensorflow as tf\n",
    "from tensorflow.keras.models import Sequential\n",
    "from tensorflow.keras.layers import Flatten, Dense, Conv2D, MaxPooling2D, Dropout\n",
    "from sklearn.metrics import f1_score\n",
    "\n",
    "# Assuming your image dimensions and channels\n",
    "height = 32  # example height\n",
    "width = 32   # example width\n",
    "channels = 3  # RGB channels\n",
    "\n",
    "# Define a function to calculate F1 score\n",
    "def f1_metric(y_true, y_pred):\n",
    "    return tf.py_function(f1_score, (y_true, y_pred > 0.5), tf.float64)\n",
    "# Define the new model\n",
    "model = Sequential([\n",
    "    # First Convolutional Layer with 32 filters, a 3x3 kernel size, 'same' padding, and ReLU activation\n",
    "    Conv2D(32, (3, 3), padding='same', activation='relu', input_shape=(height, width, channels)),\n",
    "    \n",
    "    # MaxPooling to downsample the output of the first Convolutional Layer\n",
    "    MaxPooling2D((2, 2)),\n",
    "    \n",
    "    # Second Convolutional Layer with 64 filters, a 3x3 kernel size, 'same' padding, and ReLU activation\n",
    "    Conv2D(64, (3, 3), padding='same', activation='relu'),\n",
    "    \n",
    "    # MaxPooling to downsample the output of the second Convolutional Layer\n",
    "    MaxPooling2D((2, 2)),\n",
    "    \n",
    "    # Third Convolutional Layer with 128 filters, a 3x3 kernel size, 'same' padding, and ReLU activation\n",
    "    Conv2D(128, (3, 3), padding='same', activation='relu'),\n",
    "    \n",
    "    # MaxPooling to downsample the output of the third Convolutional Layer\n",
    "    MaxPooling2D((2, 2)),\n",
    "    \n",
    "    # Additional Dropout layer after the third Convolutional Layer\n",
    "    Dropout(0.3),  \n",
    "\n",
    "    # Flatten layer to convert the 2D output of the convolutional layers into a 1D array\n",
    "    Flatten(),\n",
    "    \n",
    "    # First Dense (fully connected) layer with 128 units and ReLU activation\n",
    "    Dense(128, activation='relu'),\n",
    "    \n",
    "    # Dropout layer with 50% dropout rate for regularization\n",
    "    Dropout(0.5),\n",
    "    \n",
    "    # Second Dense layer with 64 units and ReLU activation\n",
    "    Dense(64, activation='relu'),\n",
    "    \n",
    "    # Output layer for binary classification using sigmoid activation\n",
    "    Dense(1, activation='sigmoid')\n",
    "])\n",
    "\n",
    "# Compile the model\n",
    "model.compile(optimizer='adam', loss='binary_crossentropy', metrics=['accuracy', f1_metric])\n",
    "\n"
   ]
  },
  {
   "cell_type": "code",
   "execution_count": 132,
   "id": "fa1608da6f287ba5",
   "metadata": {
    "ExecuteTime": {
     "end_time": "2023-12-01T14:04:04.216917Z",
     "start_time": "2023-12-01T14:04:04.199079Z"
    },
    "collapsed": false,
    "jupyter": {
     "outputs_hidden": false
    }
   },
   "outputs": [],
   "source": [
    "validation_file = './Data/valid.p'\n",
    "\n",
    "with open(validation_file, mode='rb') as f:\n",
    "    valid = pickle.load(f)\n",
    "images_valid, labels_valid = valid['features'], valid['labels']\n",
    "\n",
    "for i in range(len(labels_valid)):\n",
    " \n",
    "    # replace hardik with shardul\n",
    "    if labels_valid[i] < 9:\n",
    "        labels_valid[i] = 0\n",
    "    elif labels_valid[i] >= 9:\n",
    "        labels_valid[i] = 1"
   ]
  },
  {
   "cell_type": "code",
   "execution_count": 133,
   "id": "c2e9a867945a54a9",
   "metadata": {
    "ExecuteTime": {
     "end_time": "2023-12-01T14:04:24.417587Z",
     "start_time": "2023-12-01T14:04:04.216220Z"
    },
    "tags": []
   },
   "outputs": [
    {
     "name": "stdout",
     "output_type": "stream",
     "text": [
      "Epoch 1/10\n",
      "1088/1088 [==============================] - 2s 2ms/step - loss: 2.1003 - accuracy: 0.8670 - val_loss: 0.1769 - val_accuracy: 0.9447\n",
      "Epoch 2/10\n",
      "1088/1088 [==============================] - 2s 2ms/step - loss: 0.2695 - accuracy: 0.9274 - val_loss: 0.5872 - val_accuracy: 0.8342\n",
      "Epoch 3/10\n",
      "1088/1088 [==============================] - 2s 2ms/step - loss: 0.2211 - accuracy: 0.9365 - val_loss: 0.2082 - val_accuracy: 0.9138\n",
      "Epoch 4/10\n",
      "1088/1088 [==============================] - 2s 2ms/step - loss: 0.1824 - accuracy: 0.9372 - val_loss: 0.1667 - val_accuracy: 0.9465\n",
      "Epoch 5/10\n",
      "1088/1088 [==============================] - 2s 2ms/step - loss: 0.2222 - accuracy: 0.9290 - val_loss: 0.1960 - val_accuracy: 0.9200\n",
      "Epoch 6/10\n",
      "1088/1088 [==============================] - 2s 2ms/step - loss: 0.2282 - accuracy: 0.9040 - val_loss: 0.2889 - val_accuracy: 0.9136\n",
      "Epoch 7/10\n",
      "1088/1088 [==============================] - 2s 2ms/step - loss: 0.2142 - accuracy: 0.9366 - val_loss: 0.1943 - val_accuracy: 0.9401\n",
      "Epoch 8/10\n",
      "1088/1088 [==============================] - 2s 2ms/step - loss: 0.2313 - accuracy: 0.9254 - val_loss: 0.1696 - val_accuracy: 0.9336\n",
      "Epoch 9/10\n",
      "1088/1088 [==============================] - 2s 2ms/step - loss: 0.2362 - accuracy: 0.9243 - val_loss: 0.2462 - val_accuracy: 0.9211\n",
      "Epoch 10/10\n",
      "1088/1088 [==============================] - 2s 2ms/step - loss: 0.2248 - accuracy: 0.9297 - val_loss: 0.1538 - val_accuracy: 0.9458\n"
     ]
    },
    {
     "data": {
      "text/plain": [
       "<keras.src.callbacks.History at 0x286629040>"
      ]
     },
     "execution_count": 133,
     "metadata": {},
     "output_type": "execute_result"
    }
   ],
   "source": [
    "history = model.fit(images_train, labels_train, epochs=10, validation_data=(images_valid, labels_valid))"
   ]
  },
  {
   "cell_type": "code",
   "execution_count": null,
   "id": "c29b9566-01e5-44ca-9a44-dca8ce471e89",
   "metadata": {},
   "outputs": [],
   "source": [
    "# Define the file name for saving the model\n",
    "model_filename = 'Convolution_Model_F1_Ex_1'\n",
    "\n",
    "# Save the model to a file\n",
    "model.save(model_filename)"
   ]
  },
  {
   "cell_type": "code",
   "execution_count": 134,
   "id": "7bbd983f03d40ef3",
   "metadata": {
    "ExecuteTime": {
     "end_time": "2023-12-01T14:04:24.467887Z",
     "start_time": "2023-12-01T14:04:24.416760Z"
    },
    "collapsed": false,
    "jupyter": {
     "outputs_hidden": false
    }
   },
   "outputs": [],
   "source": [
    "test_file = './Data/test.p'\n",
    "\n",
    "with open(test_file, mode='rb') as f:\n",
    "    test = pickle.load(f)\n",
    "images_test, labels_test = test['features'], test['labels']\n",
    "\n",
    "for i in range(len(labels_test)):\n",
    " \n",
    "    # replace hardik with shardul\n",
    "    if labels_test[i] < 9:\n",
    "        labels_test[i] = 0\n",
    "    elif labels_test[i] >= 9:\n",
    "        labels_test[i] = 1"
   ]
  },
  {
   "cell_type": "code",
   "execution_count": null,
   "id": "9f1a0c4e-4d69-4cc1-aa75-8c9730527c10",
   "metadata": {},
   "outputs": [],
   "source": [
    "import matplotlib.pyplot as plt\n",
    "\n",
    "# Train the model and store the training history in a variable named \"history\"\n",
    "\n",
    "# Extract accuracy values\n",
    "train_accuracy = history.history['accuracy']\n",
    "val_accuracy = history.history['val_accuracy']\n",
    "\n",
    "# Plot accuracy\n",
    "plt.figure(figsize=(8, 6))\n",
    "epochs = range(1, len(train_accuracy) + 1)\n",
    "plt.plot(epochs, train_accuracy, 'b', label='Training Accuracy')\n",
    "plt.plot(epochs, val_accuracy, 'r', label='Validation Accuracy')\n",
    "plt.title('Training and Validation Accuracy')\n",
    "plt.xlabel('Epochs')\n",
    "plt.ylabel('Accuracy')\n",
    "plt.legend()\n",
    "plt.show()\n"
   ]
  },
  {
   "cell_type": "code",
   "execution_count": 135,
   "id": "3857e05dfbbeb494",
   "metadata": {
    "ExecuteTime": {
     "end_time": "2023-12-01T14:04:24.820572Z",
     "start_time": "2023-12-01T14:04:24.470178Z"
    },
    "collapsed": false,
    "jupyter": {
     "outputs_hidden": false
    }
   },
   "outputs": [
    {
     "name": "stdout",
     "output_type": "stream",
     "text": [
      "395/395 [==============================] - 0s 753us/step - loss: 0.1589 - accuracy: 0.9452\n"
     ]
    }
   ],
   "source": [
    "test_loss, test_accuracy, f1_score  = model.evaluate(images_test, labels_test)"
   ]
  }
 ],
 "metadata": {
  "kernelspec": {
   "display_name": "anaconda-2022.05-py39",
   "language": "python",
   "name": "conda-env-anaconda-2022.05-py39-py"
  },
  "language_info": {
   "codemirror_mode": {
    "name": "ipython",
    "version": 3
   },
   "file_extension": ".py",
   "mimetype": "text/x-python",
   "name": "python",
   "nbconvert_exporter": "python",
   "pygments_lexer": "ipython3",
   "version": "3.9.12"
  }
 },
 "nbformat": 4,
 "nbformat_minor": 5
}
