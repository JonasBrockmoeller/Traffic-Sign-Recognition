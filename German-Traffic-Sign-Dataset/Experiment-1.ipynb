{
 "cells": [
  {
   "cell_type": "code",
   "execution_count": 1,
   "outputs": [],
   "source": [
    "import pickle\n",
    "\n",
    "import numpy as np\n",
    "from matplotlib import pyplot as plt\n",
    "from pandas import read_csv"
   ],
   "metadata": {
    "collapsed": false,
    "ExecuteTime": {
     "end_time": "2023-12-18T22:17:12.777127Z",
     "start_time": "2023-12-18T22:17:10.776479Z"
    }
   },
   "id": "b756563c989e431a"
  },
  {
   "cell_type": "code",
   "execution_count": 2,
   "outputs": [
    {
     "name": "stdout",
     "output_type": "stream",
     "text": [
      "Loading data...\n"
     ]
    }
   ],
   "source": [
    "print(\"Loading data...\")\n",
    "training_file = './Data/train.p'\n",
    "\n",
    "sign_names = read_csv(\"./Data/signname.csv\").values[:, 1]\n",
    "\n",
    "with open(training_file, mode='rb') as f:\n",
    "    train = pickle.load(f)\n",
    "images_train, labels_train = train['features'], train['labels']\n",
    "\n",
    "for i in range(len(labels_train)):\n",
    " \n",
    "    # replace hardik with shardul\n",
    "    if labels_train[i] < 9:\n",
    "        labels_train[i] = 0\n",
    "    elif labels_train[i] >= 9:\n",
    "        labels_train[i] = 1"
   ],
   "metadata": {
    "collapsed": false,
    "ExecuteTime": {
     "end_time": "2023-12-18T22:17:12.912452Z",
     "start_time": "2023-12-18T22:17:12.779232Z"
    }
   },
   "id": "c3b4b314232cde08"
  },
  {
   "cell_type": "code",
   "execution_count": 3,
   "outputs": [
    {
     "data": {
      "text/plain": "<Figure size 640x480 with 1 Axes>",
      "image/png": "[encoded data removed]"
     },
     "metadata": {},
     "output_type": "display_data"
    }
   ],
   "source": [
    "index = np.random.randint(0, len(images_train))\n",
    "data = images_train[index, :, :, :]\n",
    "plt.imshow(data)\n",
    "plt.show()"
   ],
   "metadata": {
    "collapsed": false,
    "ExecuteTime": {
     "end_time": "2023-12-18T22:17:12.998707Z",
     "start_time": "2023-12-18T22:17:12.913603Z"
    }
   },
   "id": "818f88611049527d"
  },
  {
   "cell_type": "code",
   "execution_count": 4,
   "outputs": [
    {
     "name": "stderr",
     "output_type": "stream",
     "text": [
      "/Users/jonasbrockmoller/Documents/GitHub/Traffic-Sign-Recognition/venv/lib/python3.9/site-packages/urllib3/__init__.py:34: NotOpenSSLWarning: urllib3 v2 only supports OpenSSL 1.1.1+, currently the 'ssl' module is compiled with 'LibreSSL 2.8.3'. See: https://github.com/urllib3/urllib3/issues/3020\n",
      "  warnings.warn(\n"
     ]
    }
   ],
   "source": [
    "import tensorflow as tf\n",
    "from tensorflow.keras.models import Sequential\n",
    "from tensorflow.keras.layers import Flatten, Dense\n",
    "\n",
    "# Assuming your image dimensions and channels\n",
    "height = 32  # example height\n",
    "width = 32   # example width\n",
    "channels = 3  # RGB channels\n",
    "\n",
    "# Build the model\n",
    "model = Sequential([\n",
    "    # The Flatten layer converts the 2D image data into a 1D array.\n",
    "    Flatten(input_shape=(height, width, channels)),  # Flatten the input\n",
    "    \n",
    "    # Several Dense layers are used to learn from the flattened image data. The number of neurons and layers can be adjusted based on the complexity of your task.\n",
    "    Dense(128, activation='relu'),  # First fully connected layer\n",
    "    Dense(64, activation='relu'),   # Second fully connected layer\n",
    "    \n",
    "    # The final Dense layer with a single neuron and a sigmoid activation function is used for binary classification.\n",
    "    Dense(1, activation='sigmoid')  # Output layer for binary classification\n",
    "])\n",
    "\n",
    "# Compile the model\n",
    "model.compile(optimizer='adam', loss='binary_crossentropy', metrics=['accuracy'])"
   ],
   "metadata": {
    "collapsed": false,
    "ExecuteTime": {
     "end_time": "2023-12-18T22:17:27.140352Z",
     "start_time": "2023-12-18T22:17:13.003493Z"
    }
   },
   "id": "39729e3f88b6bcba"
  },
  {
   "cell_type": "code",
   "execution_count": 5,
   "outputs": [],
   "source": [
    "validation_file = './Data/valid.p'\n",
    "\n",
    "with open(validation_file, mode='rb') as f:\n",
    "    valid = pickle.load(f)\n",
    "images_valid, labels_valid = valid['features'], valid['labels']\n",
    "\n",
    "for i in range(len(labels_valid)):\n",
    " \n",
    "    # replace hardik with shardul\n",
    "    if labels_valid[i] < 9:\n",
    "        labels_valid[i] = 0\n",
    "    elif labels_valid[i] >= 9:\n",
    "        labels_valid[i] = 1"
   ],
   "metadata": {
    "collapsed": false,
    "ExecuteTime": {
     "end_time": "2023-12-18T22:17:27.158303Z",
     "start_time": "2023-12-18T22:17:27.143048Z"
    }
   },
   "id": "fa1608da6f287ba5"
  },
  {
   "cell_type": "code",
   "execution_count": 6,
   "outputs": [
    {
     "name": "stdout",
     "output_type": "stream",
     "text": [
      "Epoch 1/10\n",
      "1088/1088 [==============================] - 2s 1ms/step - loss: 1.4248 - accuracy: 0.8589 - val_loss: 0.1889 - val_accuracy: 0.9410\n",
      "Epoch 2/10\n",
      "1088/1088 [==============================] - 2s 1ms/step - loss: 0.3288 - accuracy: 0.9130 - val_loss: 0.1938 - val_accuracy: 0.9272\n",
      "Epoch 3/10\n",
      "1088/1088 [==============================] - 2s 1ms/step - loss: 0.2292 - accuracy: 0.9258 - val_loss: 0.1531 - val_accuracy: 0.9488\n",
      "Epoch 4/10\n",
      "1088/1088 [==============================] - 1s 1ms/step - loss: 0.2332 - accuracy: 0.9246 - val_loss: 0.1790 - val_accuracy: 0.9383\n",
      "Epoch 5/10\n",
      "1088/1088 [==============================] - 1s 1ms/step - loss: 0.1914 - accuracy: 0.9372 - val_loss: 0.1937 - val_accuracy: 0.9365\n",
      "Epoch 6/10\n",
      "1088/1088 [==============================] - 1s 1ms/step - loss: 0.2589 - accuracy: 0.9108 - val_loss: 0.2317 - val_accuracy: 0.9150\n",
      "Epoch 7/10\n",
      "1088/1088 [==============================] - 2s 1ms/step - loss: 0.2468 - accuracy: 0.9202 - val_loss: 0.2146 - val_accuracy: 0.9293\n",
      "Epoch 8/10\n",
      "1088/1088 [==============================] - 1s 1ms/step - loss: 0.2908 - accuracy: 0.9047 - val_loss: 0.2035 - val_accuracy: 0.9476\n",
      "Epoch 9/10\n",
      "1088/1088 [==============================] - 1s 1ms/step - loss: 0.2171 - accuracy: 0.9301 - val_loss: 0.1753 - val_accuracy: 0.9458\n",
      "Epoch 10/10\n",
      "1088/1088 [==============================] - 2s 1ms/step - loss: 0.2033 - accuracy: 0.9378 - val_loss: 0.1676 - val_accuracy: 0.9447\n"
     ]
    },
    {
     "data": {
      "text/plain": "<keras.src.callbacks.History at 0x168611e20>"
     },
     "execution_count": 6,
     "metadata": {},
     "output_type": "execute_result"
    }
   ],
   "source": [
    "model.fit(images_train, labels_train, epochs=10, validation_data=(images_valid, labels_valid))"
   ],
   "metadata": {
    "collapsed": false,
    "ExecuteTime": {
     "end_time": "2023-12-18T22:17:42.387176Z",
     "start_time": "2023-12-18T22:17:27.160158Z"
    }
   },
   "id": "c2e9a867945a54a9"
  },
  {
   "cell_type": "code",
   "execution_count": 7,
   "outputs": [],
   "source": [
    "test_file = './Data/test.p'\n",
    "\n",
    "with open(test_file, mode='rb') as f:\n",
    "    test = pickle.load(f)\n",
    "images_test, labels_test = test['features'], test['labels']\n",
    "\n",
    "for i in range(len(labels_test)):\n",
    " \n",
    "    # replace hardik with shardul\n",
    "    if labels_test[i] < 9:\n",
    "        labels_test[i] = 0\n",
    "    elif labels_test[i] >= 9:\n",
    "        labels_test[i] = 1"
   ],
   "metadata": {
    "collapsed": false,
    "ExecuteTime": {
     "end_time": "2023-12-18T22:17:42.437356Z",
     "start_time": "2023-12-18T22:17:42.352024Z"
    }
   },
   "id": "7bbd983f03d40ef3"
  },
  {
   "cell_type": "code",
   "execution_count": 8,
   "outputs": [
    {
     "name": "stdout",
     "output_type": "stream",
     "text": [
      "395/395 [==============================] - 0s 609us/step - loss: 0.1808 - accuracy: 0.9371\n"
     ]
    }
   ],
   "source": [
    "test_loss, test_accuracy = model.evaluate(images_test, labels_test)"
   ],
   "metadata": {
    "collapsed": false,
    "ExecuteTime": {
     "end_time": "2023-12-18T22:17:42.678111Z",
     "start_time": "2023-12-18T22:17:42.393988Z"
    }
   },
   "id": "3857e05dfbbeb494"
  }
 ],
 "metadata": {
  "kernelspec": {
   "display_name": "Python 3",
   "language": "python",
   "name": "python3"
  },
  "language_info": {
   "codemirror_mode": {
    "name": "ipython",
    "version": 2
   },
   "file_extension": ".py",
   "mimetype": "text/x-python",
   "name": "python",
   "nbconvert_exporter": "python",
   "pygments_lexer": "ipython2",
   "version": "2.7.6"
  }
 },
 "nbformat": 4,
 "nbformat_minor": 5
}
