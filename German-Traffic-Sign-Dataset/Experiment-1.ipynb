{
 "cells": [
  {
   "cell_type": "code",
   "execution_count": 128,
   "outputs": [],
   "source": [
    "import pickle\n",
    "\n",
    "import numpy as np\n",
    "from matplotlib import pyplot as plt\n",
    "from pandas import read_csv"
   ],
   "metadata": {
    "collapsed": false,
    "ExecuteTime": {
     "end_time": "2023-12-01T14:04:03.832713Z",
     "start_time": "2023-12-01T14:04:03.830987Z"
    }
   },
   "id": "b756563c989e431a"
  },
  {
   "cell_type": "code",
   "execution_count": 129,
   "outputs": [
    {
     "name": "stdout",
     "output_type": "stream",
     "text": [
      "Loading data...\n"
     ]
    }
   ],
   "source": [
    "print(\"Loading data...\")\n",
    "training_file = './Data/train.p'\n",
    "\n",
    "sign_names = read_csv(\"./Data/signname.csv\").values[:, 1]\n",
    "\n",
    "with open(training_file, mode='rb') as f:\n",
    "    train = pickle.load(f)\n",
    "images_train, labels_train = train['features'], train['labels']\n",
    "\n",
    "for i in range(len(labels_train)):\n",
    " \n",
    "    # replace hardik with shardul\n",
    "    if labels_train[i] < 9:\n",
    "        labels_train[i] = 0\n",
    "    elif labels_train[i] >= 9:\n",
    "        labels_train[i] = 1"
   ],
   "metadata": {
    "collapsed": false,
    "ExecuteTime": {
     "end_time": "2023-12-01T14:04:03.981739Z",
     "start_time": "2023-12-01T14:04:03.841955Z"
    }
   },
   "id": "c3b4b314232cde08"
  },
  {
   "cell_type": "code",
   "execution_count": 130,
   "outputs": [
    {
     "data": {
      "text/plain": "<Figure size 640x480 with 1 Axes>",
      "image/png": "[encoded data removed]"
     },
     "metadata": {},
     "output_type": "display_data"
    }
   ],
   "source": [
    "index = np.random.randint(0, len(images_train))\n",
    "data = images_train[index, :, :, :]\n",
    "plt.imshow(data)\n",
    "plt.show()"
   ],
   "metadata": {
    "collapsed": false,
    "ExecuteTime": {
     "end_time": "2023-12-01T14:04:04.085147Z",
     "start_time": "2023-12-01T14:04:03.999683Z"
    }
   },
   "id": "818f88611049527d"
  },
  {
   "cell_type": "code",
   "execution_count": 131,
   "outputs": [],
   "source": [
    "import tensorflow as tf\n",
    "from tensorflow.keras.models import Sequential\n",
    "from tensorflow.keras.layers import Flatten, Dense\n",
    "\n",
    "# Assuming your image dimensions and channels\n",
    "height = 32  # example height\n",
    "width = 32   # example width\n",
    "channels = 3  # RGB channels\n",
    "\n",
    "# Build the model\n",
    "model = Sequential([\n",
    "    # The Flatten layer converts the 2D image data into a 1D array.\n",
    "    Flatten(input_shape=(height, width, channels)),  # Flatten the input\n",
    "    \n",
    "    # Several Dense layers are used to learn from the flattened image data. The number of neurons and layers can be adjusted based on the complexity of your task.\n",
    "    Dense(128, activation='relu'),  # First fully connected layer\n",
    "    Dense(64, activation='relu'),   # Second fully connected layer\n",
    "    \n",
    "    # The final Dense layer with a single neuron and a sigmoid activation function is used for binary classification.\n",
    "    Dense(1, activation='sigmoid')  # Output layer for binary classification\n",
    "])\n",
    "\n",
    "# Compile the model\n",
    "model.compile(optimizer='adam', loss='binary_crossentropy', metrics=['accuracy'])"
   ],
   "metadata": {
    "collapsed": false,
    "ExecuteTime": {
     "end_time": "2023-12-01T14:04:04.191851Z",
     "start_time": "2023-12-01T14:04:04.089819Z"
    }
   },
   "id": "39729e3f88b6bcba"
  },
  {
   "cell_type": "code",
   "execution_count": 132,
   "outputs": [],
   "source": [
    "validation_file = './Data/valid.p'\n",
    "\n",
    "with open(validation_file, mode='rb') as f:\n",
    "    valid = pickle.load(f)\n",
    "images_valid, labels_valid = valid['features'], valid['labels']\n",
    "\n",
    "for i in range(len(labels_valid)):\n",
    " \n",
    "    # replace hardik with shardul\n",
    "    if labels_valid[i] < 9:\n",
    "        labels_valid[i] = 0\n",
    "    elif labels_valid[i] >= 9:\n",
    "        labels_valid[i] = 1"
   ],
   "metadata": {
    "collapsed": false,
    "ExecuteTime": {
     "end_time": "2023-12-01T14:04:04.216917Z",
     "start_time": "2023-12-01T14:04:04.199079Z"
    }
   },
   "id": "fa1608da6f287ba5"
  },
  {
   "cell_type": "code",
   "execution_count": 133,
   "outputs": [
    {
     "name": "stdout",
     "output_type": "stream",
     "text": [
      "Epoch 1/10\n",
      "1088/1088 [==============================] - 2s 2ms/step - loss: 2.1003 - accuracy: 0.8670 - val_loss: 0.1769 - val_accuracy: 0.9447\n",
      "Epoch 2/10\n",
      "1088/1088 [==============================] - 2s 2ms/step - loss: 0.2695 - accuracy: 0.9274 - val_loss: 0.5872 - val_accuracy: 0.8342\n",
      "Epoch 3/10\n",
      "1088/1088 [==============================] - 2s 2ms/step - loss: 0.2211 - accuracy: 0.9365 - val_loss: 0.2082 - val_accuracy: 0.9138\n",
      "Epoch 4/10\n",
      "1088/1088 [==============================] - 2s 2ms/step - loss: 0.1824 - accuracy: 0.9372 - val_loss: 0.1667 - val_accuracy: 0.9465\n",
      "Epoch 5/10\n",
      "1088/1088 [==============================] - 2s 2ms/step - loss: 0.2222 - accuracy: 0.9290 - val_loss: 0.1960 - val_accuracy: 0.9200\n",
      "Epoch 6/10\n",
      "1088/1088 [==============================] - 2s 2ms/step - loss: 0.2282 - accuracy: 0.9040 - val_loss: 0.2889 - val_accuracy: 0.9136\n",
      "Epoch 7/10\n",
      "1088/1088 [==============================] - 2s 2ms/step - loss: 0.2142 - accuracy: 0.9366 - val_loss: 0.1943 - val_accuracy: 0.9401\n",
      "Epoch 8/10\n",
      "1088/1088 [==============================] - 2s 2ms/step - loss: 0.2313 - accuracy: 0.9254 - val_loss: 0.1696 - val_accuracy: 0.9336\n",
      "Epoch 9/10\n",
      "1088/1088 [==============================] - 2s 2ms/step - loss: 0.2362 - accuracy: 0.9243 - val_loss: 0.2462 - val_accuracy: 0.9211\n",
      "Epoch 10/10\n",
      "1088/1088 [==============================] - 2s 2ms/step - loss: 0.2248 - accuracy: 0.9297 - val_loss: 0.1538 - val_accuracy: 0.9458\n"
     ]
    },
    {
     "data": {
      "text/plain": "<keras.src.callbacks.History at 0x286629040>"
     },
     "execution_count": 133,
     "metadata": {},
     "output_type": "execute_result"
    }
   ],
   "source": [
    "model.fit(images_train, labels_train, epochs=10, validation_data=(images_valid, labels_valid))"
   ],
   "metadata": {
    "collapsed": false,
    "ExecuteTime": {
     "end_time": "2023-12-01T14:04:24.417587Z",
     "start_time": "2023-12-01T14:04:04.216220Z"
    }
   },
   "id": "c2e9a867945a54a9"
  },
  {
   "cell_type": "code",
   "execution_count": 134,
   "outputs": [],
   "source": [
    "test_file = './Data/test.p'\n",
    "\n",
    "with open(test_file, mode='rb') as f:\n",
    "    test = pickle.load(f)\n",
    "images_test, labels_test = test['features'], test['labels']\n",
    "\n",
    "for i in range(len(labels_test)):\n",
    " \n",
    "    # replace hardik with shardul\n",
    "    if labels_test[i] < 9:\n",
    "        labels_test[i] = 0\n",
    "    elif labels_test[i] >= 9:\n",
    "        labels_test[i] = 1"
   ],
   "metadata": {
    "collapsed": false,
    "ExecuteTime": {
     "end_time": "2023-12-01T14:04:24.467887Z",
     "start_time": "2023-12-01T14:04:24.416760Z"
    }
   },
   "id": "7bbd983f03d40ef3"
  },
  {
   "cell_type": "code",
   "execution_count": 135,
   "outputs": [
    {
     "name": "stdout",
     "output_type": "stream",
     "text": [
      "395/395 [==============================] - 0s 753us/step - loss: 0.1589 - accuracy: 0.9452\n"
     ]
    }
   ],
   "source": [
    "test_loss, test_accuracy = model.evaluate(images_test, labels_test)"
   ],
   "metadata": {
    "collapsed": false,
    "ExecuteTime": {
     "end_time": "2023-12-01T14:04:24.820572Z",
     "start_time": "2023-12-01T14:04:24.470178Z"
    }
   },
   "id": "3857e05dfbbeb494"
  }
 ],
 "metadata": {
  "kernelspec": {
   "display_name": "Python 3",
   "language": "python",
   "name": "python3"
  },
  "language_info": {
   "codemirror_mode": {
    "name": "ipython",
    "version": 2
   },
   "file_extension": ".py",
   "mimetype": "text/x-python",
   "name": "python",
   "nbconvert_exporter": "python",
   "pygments_lexer": "ipython2",
   "version": "2.7.6"
  }
 },
 "nbformat": 4,
 "nbformat_minor": 5
}
