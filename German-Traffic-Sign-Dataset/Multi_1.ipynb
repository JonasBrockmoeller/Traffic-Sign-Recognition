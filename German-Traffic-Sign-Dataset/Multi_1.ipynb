{
 "cells": [
  {
   "cell_type": "code",
   "execution_count": 18,
   "id": "4da4128b-ac0a-46bc-a672-3d2f7bc8f7e2",
   "metadata": {},
   "outputs": [],
   "source": [
    "#!pip install tensorflow"
   ]
  },
  {
   "cell_type": "code",
   "execution_count": 12,
   "id": "6977fe6f-9e5f-4267-a1ba-f4ef2fddefaa",
   "metadata": {},
   "outputs": [],
   "source": [
    "tf.get_logger().setLevel('ERROR')"
   ]
  },
  {
   "cell_type": "code",
   "execution_count": 14,
   "id": "013ce529-b1c9-4724-8c83-a522f3926d0d",
   "metadata": {},
   "outputs": [
    {
     "name": "stdout",
     "output_type": "stream",
     "text": [
      "Loading data...\n",
      "Epoch 1/10\n",
      "294/294 [==============================] - 2s 4ms/step - loss: 13.6204 - accuracy: 0.3643 - val_loss: 59.6374 - val_accuracy: 0.0774\n",
      "Epoch 2/10\n",
      "294/294 [==============================] - 1s 3ms/step - loss: 2.3437 - accuracy: 0.5729 - val_loss: 75.2995 - val_accuracy: 0.0957\n",
      "Epoch 3/10\n",
      "294/294 [==============================] - 1s 3ms/step - loss: 1.9573 - accuracy: 0.6327 - val_loss: 70.0488 - val_accuracy: 0.0876\n",
      "Epoch 4/10\n",
      "294/294 [==============================] - 1s 3ms/step - loss: 1.8119 - accuracy: 0.6710 - val_loss: 60.4847 - val_accuracy: 0.0616\n",
      "Epoch 5/10\n",
      "294/294 [==============================] - 1s 3ms/step - loss: 0.9175 - accuracy: 0.7701 - val_loss: 58.2926 - val_accuracy: 0.0948\n",
      "Epoch 6/10\n",
      "294/294 [==============================] - 1s 3ms/step - loss: 1.0400 - accuracy: 0.7510 - val_loss: 56.9321 - val_accuracy: 0.0846\n",
      "Epoch 7/10\n",
      "294/294 [==============================] - 1s 3ms/step - loss: 0.7837 - accuracy: 0.7944 - val_loss: 59.5798 - val_accuracy: 0.1008\n",
      "Epoch 8/10\n",
      "294/294 [==============================] - 1s 3ms/step - loss: 0.9120 - accuracy: 0.7809 - val_loss: 67.3559 - val_accuracy: 0.0710\n",
      "Epoch 9/10\n",
      "294/294 [==============================] - 1s 4ms/step - loss: 0.6722 - accuracy: 0.8200 - val_loss: 59.8849 - val_accuracy: 0.0578\n",
      "Epoch 10/10\n",
      "294/294 [==============================] - 1s 4ms/step - loss: 0.6515 - accuracy: 0.8179 - val_loss: 53.0430 - val_accuracy: 0.1267\n"
     ]
    },
    {
     "data": {
      "text/plain": [
       "<keras.src.callbacks.History at 0x7f358b0c9e10>"
      ]
     },
     "execution_count": 14,
     "metadata": {},
     "output_type": "execute_result"
    }
   ],
   "source": [
    "import pickle\n",
    "import numpy as np\n",
    "from matplotlib import pyplot as plt\n",
    "from pandas import read_csv\n",
    "import tensorflow as tf\n",
    "from tensorflow.keras.models import Sequential\n",
    "from tensorflow.keras.layers import Flatten, Dense\n",
    "\n",
    "# Load data\n",
    "print(\"Loading data...\")\n",
    "#training_file = './Data/train.p'\n",
    "training_file = 'train.p'\n",
    "\n",
    "sign_names = read_csv(\"signname.csv\").values[:, 1]\n",
    "# sign_names = read_csv(\"./Data/signname.csv\").values[:, 1]\n",
    "\n",
    "with open(training_file, mode='rb') as f:\n",
    "    train = pickle.load(f)\n",
    "images_train, labels_train = train['features'], train['labels']\n",
    "\n",
    "# Filter only labels 0-8\n",
    "mask_0_to_8 = labels_train <= 8\n",
    "images_train_filtered = images_train[mask_0_to_8]\n",
    "labels_train_filtered = labels_train[mask_0_to_8]\n",
    "\n",
    "# Create a model for multi-class classification\n",
    "model_multi_class = Sequential([\n",
    "    Flatten(input_shape=(32, 32, 3)),  # Flatten the input\n",
    "    \n",
    "    Dense(128, activation='relu'),  # First fully connected layer\n",
    "    Dense(64, activation='relu'),   # Second fully connected layer\n",
    "    \n",
    "    # The final Dense layer with 9 neurons for 9 classes (0 to 8) and softmax activation for multi-class classification\n",
    "    Dense(9, activation='softmax')  # Output layer for multi-class classification (9 classes)\n",
    "])\n",
    "\n",
    "# Compile the model for multi-class classification\n",
    "model_multi_class.compile(optimizer='adam', loss='sparse_categorical_crossentropy', metrics=['accuracy'])\n",
    "\n",
    "# Training the model\n",
    "model_multi_class.fit(images_train_filtered, labels_train_filtered, epochs=10, validation_split=0.2)\n",
    "\n",
    "# Now you can proceed with evaluation or prediction on test/validation data\n"
   ]
  },
  {
   "cell_type": "code",
   "execution_count": 16,
   "id": "2cae73dc-e8c6-4095-982d-54523ede8a27",
   "metadata": {},
   "outputs": [
    {
     "name": "stdout",
     "output_type": "stream",
     "text": [
      "135/135 [==============================] - 0s 2ms/step - loss: 10.9780 - accuracy: 0.6329\n",
      "Test Accuracy: 0.6328703761100769\n"
     ]
    }
   ],
   "source": [
    "# Load test data\n",
    "#test_file = './Data/test.p'\n",
    "test_file = 'test.p'\n",
    "\n",
    "with open(test_file, mode='rb') as f:\n",
    "    test = pickle.load(f)\n",
    "images_test, labels_test = test['features'], test['labels']\n",
    "\n",
    "# Filter test data for labels 0-8\n",
    "mask_test_0_to_8 = labels_test <= 8\n",
    "images_test_filtered = images_test[mask_test_0_to_8]\n",
    "labels_test_filtered = labels_test[mask_test_0_to_8]\n",
    "\n",
    "# Evaluate the model on test data\n",
    "test_loss, test_accuracy = model_multi_class.evaluate(images_test_filtered, labels_test_filtered)\n",
    "print(f\"Test Accuracy: {test_accuracy}\")"
   ]
  },
  {
   "cell_type": "code",
   "execution_count": 21,
   "id": "2879d32a-91af-4283-a7e4-ef039c82c05f",
   "metadata": {},
   "outputs": [],
   "source": [
    "model_multi_class.save('Experiment_2_Saved_Model')\n"
   ]
  },
  {
   "cell_type": "code",
   "execution_count": null,
   "id": "11b75a30-cbfc-4c7f-a85f-f440ac86912d",
   "metadata": {},
   "outputs": [],
   "source": []
  }
 ],
 "metadata": {
  "kernelspec": {
   "display_name": "anaconda-panel-2023.05-py310",
   "language": "python",
   "name": "conda-env-anaconda-panel-2023.05-py310-py"
  },
  "language_info": {
   "codemirror_mode": {
    "name": "ipython",
    "version": 3
   },
   "file_extension": ".py",
   "mimetype": "text/x-python",
   "name": "python",
   "nbconvert_exporter": "python",
   "pygments_lexer": "ipython3",
   "version": "3.11.5"
  }
 },
 "nbformat": 4,
 "nbformat_minor": 5
}
