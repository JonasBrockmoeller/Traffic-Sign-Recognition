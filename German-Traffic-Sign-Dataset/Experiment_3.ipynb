{
 "cells": [
  {
   "cell_type": "code",
   "execution_count": 9,
   "id": "initial_id",
   "metadata": {
    "collapsed": true,
    "ExecuteTime": {
     "end_time": "2023-12-18T22:29:52.596370Z",
     "start_time": "2023-12-18T22:29:52.390597Z"
    }
   },
   "outputs": [
    {
     "name": "stdout",
     "output_type": "stream",
     "text": [
      "Loading data...\n",
      "['Speed limit (20km/h)' 'Speed limit (30km/h)' 'Speed limit (50km/h)'\n",
      " 'Speed limit (60km/h)' 'Speed limit (70km/h)' 'Speed limit (80km/h)'\n",
      " 'End of speed limit (80km/h)' 'Speed limit (100km/h)'\n",
      " 'Speed limit (120km/h)' 'No passing'\n",
      " 'No passing for vehicles over 3.5 metric tons'\n",
      " 'Right-of-way at the next intersection' 'Priority road' 'Yield' 'Stop'\n",
      " 'No vehicles' 'Vehicles over 3.5 metric tons prohibited' 'No entry'\n",
      " 'General caution' 'Dangerous curve to the left'\n",
      " 'Dangerous curve to the right' 'Double curve' 'Bumpy road'\n",
      " 'Slippery road' 'Road narrows on the right' 'Road work' 'Traffic signals'\n",
      " 'Pedestrians' 'Children crossing' 'Bicycles crossing'\n",
      " 'Beware of ice/snow' 'Wild animals crossing'\n",
      " 'End of all speed and passing limits' 'Turn right ahead'\n",
      " 'Turn left ahead' 'Ahead only' 'Go straight or right'\n",
      " 'Go straight or left' 'Keep right' 'Keep left' 'Roundabout mandatory'\n",
      " 'End of no passing' 'End of no passing by vehicles over 3.5 metric']\n",
      "{0: 0, 1: 0, 2: 0, 3: 0, 4: 0, 5: 0, 6: 0, 7: 0, 8: 0, 9: 0, 10: 0, 11: 1, 12: 2, 13: 1, 14: 3, 15: 0, 16: 0, 17: 0, 18: 1, 19: 1, 20: 1, 21: 1, 22: 1, 23: 1, 24: 1, 25: 1, 26: 1, 27: 1, 28: 1, 29: 1, 30: 1, 31: 1, 32: 0, 33: 0, 34: 0, 35: 0, 36: 0, 37: 0, 38: 0, 39: 0, 40: 0, 41: 0, 42: 0}\n"
     ]
    }
   ],
   "source": [
    "import pickle\n",
    "from pandas import read_csv\n",
    "\n",
    "print(\"Loading data...\")\n",
    "training_file = './Data/train.p'\n",
    "\n",
    "sign_names = read_csv(\"./Data/signname.csv\").values[:, 1]\n",
    "print(sign_names)\n",
    "\n",
    "sign_forms = read_csv(\"./Data/signshape.csv\").values\n",
    "sign_dict = {}\n",
    "for pair in sign_forms:\n",
    "    sign_dict[pair[0]] = pair[1]\n",
    "print(sign_dict)\n",
    "\n",
    "with open(training_file, mode='rb') as f:\n",
    "    train = pickle.load(f)\n",
    "images_train, labels_train = train['features'], train['labels']\n",
    "\n",
    "forms_train = []\n",
    "for i in range(len(labels_train)):\n",
    "    forms_train.append(sign_dict.get(labels_train[i]))\n",
    "    if labels_train[i] < 9:\n",
    "        labels_train[i] = 0\n",
    "    elif labels_train[i] >= 9:\n",
    "        labels_train[i] = 1"
   ]
  },
  {
   "cell_type": "code",
   "execution_count": 10,
   "outputs": [
    {
     "name": "stdout",
     "output_type": "stream",
     "text": [
      "[INFO] compiling model...\n",
      "Model: \"model_3\"\n",
      "__________________________________________________________________________________________________\n",
      " Layer (type)                Output Shape                 Param #   Connected to                  \n",
      "==================================================================================================\n",
      " input_4 (InputLayer)        [(None, 32, 32, 3)]          0         []                            \n",
      "                                                                                                  \n",
      " conv2d_9 (Conv2D)           (None, 32, 32, 32)           896       ['input_4[0][0]']             \n",
      "                                                                                                  \n",
      " max_pooling2d_9 (MaxPoolin  (None, 16, 16, 32)           0         ['conv2d_9[0][0]']            \n",
      " g2D)                                                                                             \n",
      "                                                                                                  \n",
      " conv2d_10 (Conv2D)          (None, 16, 16, 64)           18496     ['max_pooling2d_9[0][0]']     \n",
      "                                                                                                  \n",
      " max_pooling2d_10 (MaxPooli  (None, 8, 8, 64)             0         ['conv2d_10[0][0]']           \n",
      " ng2D)                                                                                            \n",
      "                                                                                                  \n",
      " conv2d_11 (Conv2D)          (None, 8, 8, 128)            73856     ['max_pooling2d_10[0][0]']    \n",
      "                                                                                                  \n",
      " max_pooling2d_11 (MaxPooli  (None, 4, 4, 128)            0         ['conv2d_11[0][0]']           \n",
      " ng2D)                                                                                            \n",
      "                                                                                                  \n",
      " flatten_3 (Flatten)         (None, 2048)                 0         ['max_pooling2d_11[0][0]']    \n",
      "                                                                                                  \n",
      " dense_9 (Dense)             (None, 128)                  262272    ['flatten_3[0][0]']           \n",
      "                                                                                                  \n",
      " dropout_9 (Dropout)         (None, 128)                  0         ['dense_9[0][0]']             \n",
      "                                                                                                  \n",
      " dense_10 (Dense)            (None, 64)                   8256      ['dropout_9[0][0]']           \n",
      "                                                                                                  \n",
      " dense_11 (Dense)            (None, 64)                   8256      ['dropout_9[0][0]']           \n",
      "                                                                                                  \n",
      " dropout_10 (Dropout)        (None, 64)                   0         ['dense_10[0][0]']            \n",
      "                                                                                                  \n",
      " dropout_11 (Dropout)        (None, 64)                   0         ['dense_11[0][0]']            \n",
      "                                                                                                  \n",
      " type_output (Dense)         (None, 1)                    65        ['dropout_10[0][0]']          \n",
      "                                                                                                  \n",
      " shape_output (Dense)        (None, 4)                    260       ['dropout_11[0][0]']          \n",
      "                                                                                                  \n",
      "==================================================================================================\n",
      "Total params: 372357 (1.42 MB)\n",
      "Trainable params: 372357 (1.42 MB)\n",
      "Non-trainable params: 0 (0.00 Byte)\n",
      "__________________________________________________________________________________________________\n",
      "Finished building model...\n"
     ]
    }
   ],
   "source": [
    "import tensorflow as tf\n",
    "from tensorflow.keras.models import Model\n",
    "from tensorflow.keras.layers import Input, Flatten, Dense, Conv2D, MaxPooling2D, Dropout\n",
    "\n",
    "# Assuming image dimensions\n",
    "height = 32  # example height\n",
    "width = 32   # example width\n",
    "channels = 3  # RGB channels\n",
    "\n",
    "# Input layer\n",
    "inputs = Input(shape=(height, width, channels))\n",
    "\n",
    "# Convolutional layers\n",
    "x = Conv2D(32, (3, 3), padding='same', activation='relu')(inputs)\n",
    "x = MaxPooling2D((2, 2))(x)\n",
    "x = Conv2D(64, (3, 3), padding='same', activation='relu')(x)\n",
    "x = MaxPooling2D((2, 2))(x)\n",
    "x = Conv2D(128, (3, 3), padding='same', activation='relu')(x)\n",
    "x = MaxPooling2D((2, 2))(x)\n",
    "x = Flatten()(x)\n",
    "\n",
    "# Shared dense layer\n",
    "shared_dense = Dense(128, activation='relu')(x)\n",
    "shared_dense = Dropout(0.5)(shared_dense)\n",
    "\n",
    "# Head 1: Binary classification (street sign or no street sign)\n",
    "head_1 = Dense(64, activation='relu')(shared_dense)\n",
    "head_1 = Dropout(0.5)(head_1)\n",
    "binary_output = Dense(1, activation='sigmoid', name='type_output')(head_1)\n",
    "\n",
    "# Head 2: Multi-class classification (4 different shapes)\n",
    "head_2 = Dense(64, activation='relu')(shared_dense)\n",
    "head_2 = Dropout(0.5)(head_2)\n",
    "shape_output = Dense(4, activation='softmax', name='shape_output')(head_2)\n",
    "\n",
    "# Create the model\n",
    "model = Model(inputs=inputs, outputs=[binary_output, shape_output])\n",
    "\n",
    "# define two dictionaries: one that specifies the loss method for\n",
    "# each output of the network along with a second dictionary that\n",
    "# specifies the weight per loss\n",
    "losses = {'type_output': 'binary_crossentropy', \n",
    "          'shape_output': 'sparse_categorical_crossentropy'}\n",
    "\n",
    "lossWeights = {\"type_output\": 1.0, \"shape_output\": 1.0}\n",
    "# initialize the optimizer and compile the model\n",
    "print(\"[INFO] compiling model...\")\n",
    "\n",
    "# Compile the model\n",
    "model.compile(optimizer='adam', \n",
    "              loss=losses, \n",
    "              loss_weights=lossWeights,\n",
    "              metrics=['accuracy']\n",
    "              )\n",
    "\n",
    "# Model summary\n",
    "model.summary()\n",
    "\n",
    "print(\"Finished building model...\")"
   ],
   "metadata": {
    "collapsed": false,
    "ExecuteTime": {
     "end_time": "2023-12-18T22:29:52.860671Z",
     "start_time": "2023-12-18T22:29:52.609167Z"
    }
   },
   "id": "5f436adbabc426b3"
  },
  {
   "cell_type": "code",
   "execution_count": 11,
   "outputs": [],
   "source": [
    "validation_file = './Data/valid.p'\n",
    "\n",
    "with open(validation_file, mode='rb') as f:\n",
    "    valid = pickle.load(f)\n",
    "images_valid, labels_valid = valid['features'], valid['labels']\n",
    "\n",
    "forms_valid = []\n",
    "for i in range(len(labels_valid)):\n",
    "    forms_valid.append(sign_dict.get(labels_valid[i]))\n",
    "    if labels_valid[i] < 9:\n",
    "        labels_valid[i] = 0\n",
    "    elif labels_valid[i] >= 9:\n",
    "        labels_valid[i] = 1"
   ],
   "metadata": {
    "collapsed": false,
    "ExecuteTime": {
     "end_time": "2023-12-18T22:29:52.877922Z",
     "start_time": "2023-12-18T22:29:52.861345Z"
    }
   },
   "id": "72d5d180cb1cf174"
  },
  {
   "cell_type": "code",
   "execution_count": 12,
   "outputs": [
    {
     "name": "stdout",
     "output_type": "stream",
     "text": [
      "Img train:  34799 uint8\n",
      "Form train:  34799 <class 'numpy.ndarray'>\n",
      "Label train:  34799 <class 'numpy.ndarray'>\n",
      "Img valid:  4410 uint8\n",
      "Form valid:  4410 <class 'numpy.ndarray'>\n",
      "Label valid:  4410 <class 'numpy.ndarray'>\n",
      "Epoch 1/10\n",
      "1088/1088 [==============================] - 18s 16ms/step - loss: 0.7421 - type_output_loss: 0.3044 - shape_output_loss: 0.4378 - type_output_accuracy: 0.8734 - shape_output_accuracy: 0.8725 - val_loss: 0.1249 - val_type_output_loss: 0.0571 - val_shape_output_loss: 0.0677 - val_type_output_accuracy: 0.9821 - val_shape_output_accuracy: 0.9721\n",
      "Epoch 2/10\n",
      "1088/1088 [==============================] - 17s 16ms/step - loss: 0.1539 - type_output_loss: 0.0661 - shape_output_loss: 0.0878 - type_output_accuracy: 0.9801 - shape_output_accuracy: 0.9713 - val_loss: 0.0870 - val_type_output_loss: 0.0402 - val_shape_output_loss: 0.0468 - val_type_output_accuracy: 0.9916 - val_shape_output_accuracy: 0.9791\n",
      "Epoch 3/10\n",
      "1088/1088 [==============================] - 17s 16ms/step - loss: 0.1022 - type_output_loss: 0.0434 - shape_output_loss: 0.0587 - type_output_accuracy: 0.9888 - shape_output_accuracy: 0.9871 - val_loss: 0.0419 - val_type_output_loss: 0.0186 - val_shape_output_loss: 0.0234 - val_type_output_accuracy: 0.9977 - val_shape_output_accuracy: 0.9966\n",
      "Epoch 4/10\n",
      "1088/1088 [==============================] - 17s 16ms/step - loss: 0.0853 - type_output_loss: 0.0390 - shape_output_loss: 0.0463 - type_output_accuracy: 0.9895 - shape_output_accuracy: 0.9896 - val_loss: 0.0757 - val_type_output_loss: 0.0331 - val_shape_output_loss: 0.0426 - val_type_output_accuracy: 0.9887 - val_shape_output_accuracy: 0.9871\n",
      "Epoch 5/10\n",
      "1088/1088 [==============================] - 18s 16ms/step - loss: 0.0674 - type_output_loss: 0.0302 - shape_output_loss: 0.0372 - type_output_accuracy: 0.9917 - shape_output_accuracy: 0.9914 - val_loss: 0.0309 - val_type_output_loss: 0.0151 - val_shape_output_loss: 0.0158 - val_type_output_accuracy: 0.9955 - val_shape_output_accuracy: 0.9973\n",
      "Epoch 6/10\n",
      "1088/1088 [==============================] - 18s 17ms/step - loss: 0.0469 - type_output_loss: 0.0233 - shape_output_loss: 0.0237 - type_output_accuracy: 0.9942 - shape_output_accuracy: 0.9949 - val_loss: 0.0438 - val_type_output_loss: 0.0282 - val_shape_output_loss: 0.0156 - val_type_output_accuracy: 0.9905 - val_shape_output_accuracy: 0.9973\n",
      "Epoch 7/10\n",
      "1088/1088 [==============================] - 18s 17ms/step - loss: 0.0563 - type_output_loss: 0.0244 - shape_output_loss: 0.0319 - type_output_accuracy: 0.9934 - shape_output_accuracy: 0.9936 - val_loss: 0.0173 - val_type_output_loss: 0.0087 - val_shape_output_loss: 0.0086 - val_type_output_accuracy: 0.9968 - val_shape_output_accuracy: 0.9980\n",
      "Epoch 8/10\n",
      "1088/1088 [==============================] - 18s 17ms/step - loss: 0.0429 - type_output_loss: 0.0232 - shape_output_loss: 0.0197 - type_output_accuracy: 0.9943 - shape_output_accuracy: 0.9953 - val_loss: 0.0144 - val_type_output_loss: 0.0055 - val_shape_output_loss: 0.0089 - val_type_output_accuracy: 0.9986 - val_shape_output_accuracy: 0.9989\n",
      "Epoch 9/10\n",
      "1088/1088 [==============================] - 17s 16ms/step - loss: 0.0443 - type_output_loss: 0.0218 - shape_output_loss: 0.0225 - type_output_accuracy: 0.9945 - shape_output_accuracy: 0.9960 - val_loss: 0.0775 - val_type_output_loss: 0.0309 - val_shape_output_loss: 0.0466 - val_type_output_accuracy: 0.9959 - val_shape_output_accuracy: 0.9914\n",
      "Epoch 10/10\n",
      "1088/1088 [==============================] - 18s 16ms/step - loss: 0.0429 - type_output_loss: 0.0201 - shape_output_loss: 0.0229 - type_output_accuracy: 0.9947 - shape_output_accuracy: 0.9955 - val_loss: 0.0176 - val_type_output_loss: 0.0079 - val_shape_output_loss: 0.0097 - val_type_output_accuracy: 0.9977 - val_shape_output_accuracy: 0.9986\n"
     ]
    }
   ],
   "source": [
    "import numpy\n",
    "\n",
    "forms_train = numpy.array(forms_train)\n",
    "forms_valid = numpy.array(forms_valid)\n",
    "\n",
    "print(\"Img train: \", len(images_train), images_train.dtype)\n",
    "print(\"Form train: \", len(forms_train), type(forms_train))\n",
    "print(\"Label train: \", len(labels_train), type(labels_train))\n",
    "\n",
    "print(\"Img valid: \", len(images_valid), images_valid.dtype)\n",
    "print(\"Form valid: \", len(forms_valid), type(forms_valid))\n",
    "print(\"Label valid: \", len(labels_valid), type(labels_valid))\n",
    "\n",
    "train_data = {'shape_output': forms_train, 'type_output': labels_train}\n",
    "validation_data = {'shape_output': forms_valid, 'type_output': labels_valid}\n",
    "\n",
    "# Train the model\n",
    "history = model.fit(images_train, \n",
    "                    train_data, \n",
    "                    epochs=10, \n",
    "                    batch_size=32, \n",
    "                    validation_data=(images_valid, validation_data))"
   ],
   "metadata": {
    "collapsed": false,
    "ExecuteTime": {
     "end_time": "2023-12-18T22:32:50.390956Z",
     "start_time": "2023-12-18T22:29:52.879949Z"
    }
   },
   "id": "56823c85048d5b83"
  },
  {
   "cell_type": "code",
   "execution_count": 13,
   "outputs": [
    {
     "name": "stdout",
     "output_type": "stream",
     "text": [
      "INFO:tensorflow:Assets written to: Multi-head-model/assets\n"
     ]
    },
    {
     "name": "stderr",
     "output_type": "stream",
     "text": [
      "INFO:tensorflow:Assets written to: Multi-head-model/assets\n"
     ]
    }
   ],
   "source": [
    "# Define the file name for saving the model\n",
    "model_filename = 'Multi-head-model'\n",
    "\n",
    "# Save the model to a file\n",
    "model.save(model_filename)"
   ],
   "metadata": {
    "collapsed": false,
    "ExecuteTime": {
     "end_time": "2023-12-18T22:32:51.018796Z",
     "start_time": "2023-12-18T22:32:50.435105Z"
    }
   },
   "id": "70c7e7334fbceaec"
  },
  {
   "cell_type": "code",
   "execution_count": 20,
   "outputs": [],
   "source": [
    "test_file = './Data/test.p'\n",
    "\n",
    "with open(test_file, mode='rb') as f:\n",
    "    test = pickle.load(f)\n",
    "images_test, labels_test = test['features'], test['labels']\n",
    "\n",
    "forms_test = []\n",
    "for i in range(len(labels_test)):\n",
    "    forms_test.append(sign_dict.get(labels_test[i]))\n",
    "    if labels_test[i] < 9:\n",
    "        labels_test[i] = 0\n",
    "    elif labels_test[i] >= 9:\n",
    "        labels_test[i] = 1"
   ],
   "metadata": {
    "collapsed": false,
    "ExecuteTime": {
     "end_time": "2023-12-18T22:39:41.152899Z",
     "start_time": "2023-12-18T22:39:41.104439Z"
    }
   },
   "id": "44dc8e80622d9cfa"
  },
  {
   "cell_type": "code",
   "execution_count": 23,
   "outputs": [
    {
     "name": "stdout",
     "output_type": "stream",
     "text": [
      "395/395 [==============================] - 2s 6ms/step - loss: 0.1604 - type_output_loss: 0.0223 - shape_output_loss: 0.1381 - type_output_accuracy: 0.9926 - shape_output_accuracy: 0.9904\n"
     ]
    }
   ],
   "source": [
    "forms_test = numpy.array(forms_test)\n",
    "\n",
    "total_loss, loss_binary_output, loss_shape_output, accuracy_binary_output, accuracy_shape_output = model.evaluate(images_test, {'shape_output': forms_test, 'type_output': labels_test})"
   ],
   "metadata": {
    "collapsed": false,
    "ExecuteTime": {
     "end_time": "2023-12-18T22:42:07.355522Z",
     "start_time": "2023-12-18T22:42:04.807211Z"
    }
   },
   "id": "8ae2783ea94f75ad"
  },
  {
   "cell_type": "code",
   "execution_count": 16,
   "outputs": [
    {
     "data": {
      "text/plain": "<Figure size 800x600 with 1 Axes>",
      "image/png": "[encoded data removed]"
     },
     "metadata": {},
     "output_type": "display_data"
    }
   ],
   "source": [
    "import matplotlib.pyplot as plt\n",
    " \n",
    "# Extract accuracy values\n",
    "shape_train_accuracy = history.history['shape_output_accuracy']\n",
    "shape_val_accuracy = history.history['val_shape_output_accuracy']\n",
    "\n",
    "type_train_accuracy = history.history['type_output_accuracy']\n",
    "type_val_accuracy = history.history['val_type_output_accuracy']\n",
    " \n",
    "# Plot accuracy\n",
    "fig = plt.figure(figsize=(8, 6))\n",
    "epochs = range(1, len(shape_train_accuracy) + 1)\n",
    "plt.plot(epochs, shape_train_accuracy, 'b', label='Shape Training Accuracy')\n",
    "plt.plot(epochs, shape_val_accuracy, 'r', label='Shape Validation Accuracy')\n",
    "plt.plot(epochs, type_train_accuracy, 'g', label='Type Training Accuracy')\n",
    "plt.plot(epochs, type_val_accuracy, 'm', label='Type Validation Accuracy')\n",
    "plt.title('Training and Validation Accuracy')\n",
    "plt.xlabel('Epochs')\n",
    "plt.ylabel('Accuracy')\n",
    "plt.legend()\n",
    "plt.show()\n",
    "fig.savefig('multihead_cnn.png', dpi=fig.dpi)"
   ],
   "metadata": {
    "collapsed": false,
    "ExecuteTime": {
     "end_time": "2023-12-18T22:35:07.825809Z",
     "start_time": "2023-12-18T22:35:07.610609Z"
    }
   },
   "id": "baf77891b0de5318"
  },
  {
   "cell_type": "code",
   "execution_count": null,
   "outputs": [],
   "source": [],
   "metadata": {
    "collapsed": false
   },
   "id": "f375d616b2645992"
  }
 ],
 "metadata": {
  "kernelspec": {
   "display_name": "Python 3",
   "language": "python",
   "name": "python3"
  },
  "language_info": {
   "codemirror_mode": {
    "name": "ipython",
    "version": 2
   },
   "file_extension": ".py",
   "mimetype": "text/x-python",
   "name": "python",
   "nbconvert_exporter": "python",
   "pygments_lexer": "ipython2",
   "version": "2.7.6"
  }
 },
 "nbformat": 4,
 "nbformat_minor": 5
}
