{
 "cells": [
  {
   "cell_type": "code",
   "execution_count": 3,
   "id": "b756563c989e431a",
   "metadata": {
    "collapsed": false,
    "ExecuteTime": {
     "end_time": "2023-12-12T12:48:36.649170Z",
     "start_time": "2023-12-12T12:48:36.609530Z"
    }
   },
   "outputs": [],
   "source": [
    "#!pip install tensorflow\n",
    "import pickle\n",
    "\n",
    "import numpy as np\n",
    "from matplotlib import pyplot as plt\n",
    "from pandas import read_csv\n"
   ]
  },
  {
   "cell_type": "code",
   "execution_count": 4,
   "id": "c3b4b314232cde08",
   "metadata": {
    "tags": [],
    "ExecuteTime": {
     "end_time": "2023-12-12T12:48:36.822981Z",
     "start_time": "2023-12-12T12:48:36.678782Z"
    }
   },
   "outputs": [
    {
     "name": "stdout",
     "output_type": "stream",
     "text": [
      "Loading data...\n"
     ]
    }
   ],
   "source": [
    "print(\"Loading data...\")\n",
    "training_file = './Data/train.p'\n",
    "\n",
    "sign_names = read_csv(\"./Data/signname.csv\").values[:, 1]\n",
    "\n",
    "with open(training_file, mode='rb') as f:\n",
    "    train = pickle.load(f)\n",
    "images_train, labels_train = train['features'], train['labels']\n",
    "\n",
    "for i in range(len(labels_train)):\n",
    " \n",
    "    # replace hardik with shardul\n",
    "    if labels_train[i] < 9:\n",
    "        labels_train[i] = 0\n",
    "    elif labels_train[i] >= 9:\n",
    "        labels_train[i] = 1"
   ]
  },
  {
   "cell_type": "code",
   "execution_count": 5,
   "id": "39729e3f88b6bcba",
   "metadata": {
    "collapsed": false,
    "ExecuteTime": {
     "end_time": "2023-12-12T12:48:36.886583Z",
     "start_time": "2023-12-12T12:48:36.828242Z"
    }
   },
   "outputs": [
    {
     "name": "stdout",
     "output_type": "stream",
     "text": [
      "Finished building model...\n"
     ]
    }
   ],
   "source": [
    "import tensorflow as tf\n",
    "from tensorflow.keras.models import Sequential\n",
    "from tensorflow.keras.layers import Flatten, Dense, Conv2D, MaxPooling2D, Dropout\n",
    "\n",
    "# Assuming your image dimensions and channels\n",
    "height = 32  # example height\n",
    "width = 32   # example width\n",
    "channels = 3  # RGB channels\n",
    "\n",
    "\n",
    "\n",
    "# Define the new model\n",
    "model = Sequential([\n",
    "    # First Convolutional Layer with 32 filters, a 3x3 kernel size, 'same' padding, and ReLU activation\n",
    "    Conv2D(32, (3, 3), padding='same', activation='relu', input_shape=(height, width, channels)),\n",
    "    \n",
    "    # MaxPooling to downsample the output of the first Convolutional Layer\n",
    "    MaxPooling2D((2, 2)),\n",
    "    \n",
    "    # Second Convolutional Layer with 64 filters, a 3x3 kernel size, 'same' padding, and ReLU activation\n",
    "    Conv2D(64, (3, 3), padding='same', activation='relu'),\n",
    "    \n",
    "    # MaxPooling to downsample the output of the second Convolutional Layer\n",
    "    MaxPooling2D((2, 2)),\n",
    "    \n",
    "    # Third Convolutional Layer with 128 filters, a 3x3 kernel size, 'same' padding, and ReLU activation\n",
    "    Conv2D(128, (3, 3), padding='same', activation='relu'),\n",
    "    \n",
    "    # MaxPooling to downsample the output of the third Convolutional Layer\n",
    "    MaxPooling2D((2, 2)),\n",
    "    \n",
    "    # Additional Dropout layer after the third Convolutional Layer\n",
    "    Dropout(0.3),  \n",
    "\n",
    "    # Flatten layer to convert the 2D output of the convolutional layers into a 1D array\n",
    "    Flatten(),\n",
    "    \n",
    "    # First Dense (fully connected) layer with 128 units and ReLU activation\n",
    "    Dense(128, activation='relu'),\n",
    "    \n",
    "    # Dropout layer with 50% dropout rate for regularization\n",
    "    Dropout(0.5),\n",
    "    \n",
    "    # Second Dense layer with 64 units and ReLU activation\n",
    "    Dense(64, activation='relu'),\n",
    "    \n",
    "    # Output layer for binary classification using sigmoid activation\n",
    "    Dense(1, activation='sigmoid')\n",
    "])\n",
    "\n",
    "# Compile the model\n",
    "model.compile(optimizer='adam', loss='binary_crossentropy', metrics=['accuracy'])\n",
    "\n",
    "print(\"Finished building model...\")\n",
    "\n"
   ]
  },
  {
   "cell_type": "code",
   "execution_count": 6,
   "id": "fa1608da6f287ba5",
   "metadata": {
    "collapsed": false,
    "ExecuteTime": {
     "end_time": "2023-12-12T12:48:36.928024Z",
     "start_time": "2023-12-12T12:48:36.887354Z"
    }
   },
   "outputs": [],
   "source": [
    "validation_file = './Data/valid.p'\n",
    "\n",
    "with open(validation_file, mode='rb') as f:\n",
    "    valid = pickle.load(f)\n",
    "images_valid, labels_valid = valid['features'], valid['labels']\n",
    "\n",
    "for i in range(len(labels_valid)):\n",
    " \n",
    "    # replace hardik with shardul\n",
    "    if labels_valid[i] < 9:\n",
    "        labels_valid[i] = 0\n",
    "    elif labels_valid[i] >= 9:\n",
    "        labels_valid[i] = 1"
   ]
  },
  {
   "cell_type": "code",
   "execution_count": 7,
   "id": "c2e9a867945a54a9",
   "metadata": {
    "tags": [],
    "ExecuteTime": {
     "end_time": "2023-12-12T12:49:06.059552Z",
     "start_time": "2023-12-12T12:48:36.910342Z"
    }
   },
   "outputs": [
    {
     "name": "stdout",
     "output_type": "stream",
     "text": [
      "1088/1088 [==============================] - 29s 26ms/step - loss: 0.2810 - accuracy: 0.9132 - val_loss: 0.0240 - val_accuracy: 0.9941\n"
     ]
    },
    {
     "data": {
      "text/plain": "<keras.src.callbacks.History at 0x16e15e910>"
     },
     "execution_count": 7,
     "metadata": {},
     "output_type": "execute_result"
    }
   ],
   "source": [
    "# model.fit(images_train, labels_train, epochs=10, validation_data=(images_valid, labels_valid))\n",
    "model.fit(images_train, labels_train, epochs=1, validation_data=(images_valid, labels_valid))"
   ]
  },
  {
   "cell_type": "code",
   "execution_count": 8,
   "id": "c29b9566-01e5-44ca-9a44-dca8ce471e89",
   "metadata": {
    "ExecuteTime": {
     "end_time": "2023-12-12T12:49:06.862704Z",
     "start_time": "2023-12-12T12:49:06.037711Z"
    }
   },
   "outputs": [
    {
     "name": "stdout",
     "output_type": "stream",
     "text": [
      "INFO:tensorflow:Assets written to: Convolution_Model_Saved/assets\n"
     ]
    },
    {
     "name": "stderr",
     "output_type": "stream",
     "text": [
      "INFO:tensorflow:Assets written to: Convolution_Model_Saved/assets\n"
     ]
    }
   ],
   "source": [
    "# Define the file name for saving the model\n",
    "model_filename = 'Convolution_Model_Saved'\n",
    "\n",
    "# Save the model to a file\n",
    "model.save(model_filename)"
   ]
  },
  {
   "cell_type": "code",
   "execution_count": 9,
   "id": "7bbd983f03d40ef3",
   "metadata": {
    "collapsed": false,
    "ExecuteTime": {
     "end_time": "2023-12-12T12:49:06.969304Z",
     "start_time": "2023-12-12T12:49:06.863717Z"
    }
   },
   "outputs": [],
   "source": [
    "test_file = './Data/test.p'\n",
    "\n",
    "with open(test_file, mode='rb') as f:\n",
    "    test = pickle.load(f)\n",
    "images_test, labels_test = test['features'], test['labels']\n",
    "\n",
    "for i in range(len(labels_test)):\n",
    " \n",
    "    # replace hardik with shardul\n",
    "    if labels_test[i] < 9:\n",
    "        labels_test[i] = 0\n",
    "    elif labels_test[i] >= 9:\n",
    "        labels_test[i] = 1"
   ]
  },
  {
   "cell_type": "code",
   "execution_count": 10,
   "id": "3857e05dfbbeb494",
   "metadata": {
    "collapsed": false,
    "ExecuteTime": {
     "end_time": "2023-12-12T12:49:14.350553Z",
     "start_time": "2023-12-12T12:49:06.985021Z"
    }
   },
   "outputs": [
    {
     "name": "stdout",
     "output_type": "stream",
     "text": [
      "395/395 [==============================] - 7s 17ms/step - loss: 0.0469 - accuracy: 0.9858\n"
     ]
    },
    {
     "ename": "ValueError",
     "evalue": "not enough values to unpack (expected 3, got 2)",
     "output_type": "error",
     "traceback": [
      "\u001B[0;31m---------------------------------------------------------------------------\u001B[0m",
      "\u001B[0;31mValueError\u001B[0m                                Traceback (most recent call last)",
      "Cell \u001B[0;32mIn[10], line 1\u001B[0m\n\u001B[0;32m----> 1\u001B[0m test_loss, test_accuracy, f1_score \u001B[38;5;241m=\u001B[39m model\u001B[38;5;241m.\u001B[39mevaluate(images_test, labels_test)\n",
      "\u001B[0;31mValueError\u001B[0m: not enough values to unpack (expected 3, got 2)"
     ]
    }
   ],
   "source": [
    "test_loss, test_accuracy, f1_score = model.evaluate(images_test, labels_test)"
   ]
  }
 ],
 "metadata": {
  "kernelspec": {
   "name": "python3",
   "language": "python",
   "display_name": "Python 3 (ipykernel)"
  },
  "language_info": {
   "codemirror_mode": {
    "name": "ipython",
    "version": 3
   },
   "file_extension": ".py",
   "mimetype": "text/x-python",
   "name": "python",
   "nbconvert_exporter": "python",
   "pygments_lexer": "ipython3",
   "version": "3.10.13"
  }
 },
 "nbformat": 4,
 "nbformat_minor": 5
}
