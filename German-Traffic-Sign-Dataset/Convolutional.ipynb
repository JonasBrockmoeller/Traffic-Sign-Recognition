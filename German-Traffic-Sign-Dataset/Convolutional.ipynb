{
 "cells": [
  {
   "cell_type": "code",
   "execution_count": 1,
   "id": "b756563c989e431a",
   "metadata": {
    "ExecuteTime": {
     "end_time": "2023-12-01T14:04:03.832713Z",
     "start_time": "2023-12-01T14:04:03.830987Z"
    },
    "collapsed": false,
    "jupyter": {
     "outputs_hidden": false
    }
   },
   "outputs": [],
   "source": [
    "#!pip install tensorflow\n",
    "import pickle\n",
    "\n",
    "import numpy as np\n",
    "from matplotlib import pyplot as plt\n",
    "from pandas import read_csv\n"
   ]
  },
  {
   "cell_type": "code",
   "execution_count": 2,
   "id": "c3b4b314232cde08",
   "metadata": {
    "ExecuteTime": {
     "end_time": "2023-12-01T14:04:03.981739Z",
     "start_time": "2023-12-01T14:04:03.841955Z"
    },
    "tags": []
   },
   "outputs": [
    {
     "name": "stdout",
     "output_type": "stream",
     "text": [
      "Loading data...\n"
     ]
    }
   ],
   "source": [
    "print(\"Loading data...\")\n",
    "training_file = './Data/train.p'\n",
    "\n",
    "sign_names = read_csv(\"./Data/signname.csv\").values[:, 1]\n",
    "\n",
    "with open(training_file, mode='rb') as f:\n",
    "    train = pickle.load(f)\n",
    "images_train, labels_train = train['features'], train['labels']\n",
    "\n",
    "for i in range(len(labels_train)):\n",
    " \n",
    "    # replace hardik with shardul\n",
    "    if labels_train[i] < 9:\n",
    "        labels_train[i] = 0\n",
    "    elif labels_train[i] >= 9:\n",
    "        labels_train[i] = 1"
   ]
  },
  {
   "cell_type": "code",
   "execution_count": 3,
   "id": "39729e3f88b6bcba",
   "metadata": {
    "ExecuteTime": {
     "end_time": "2023-12-01T14:04:04.191851Z",
     "start_time": "2023-12-01T14:04:04.089819Z"
    },
    "collapsed": false,
    "jupyter": {
     "outputs_hidden": false
    }
   },
   "outputs": [
    {
     "name": "stderr",
     "output_type": "stream",
     "text": [
      "2023-12-12 11:42:16.340677: I tensorflow/core/platform/cpu_feature_guard.cc:193] This TensorFlow binary is optimized with oneAPI Deep Neural Network Library (oneDNN) to use the following CPU instructions in performance-critical operations:  SSE4.1 SSE4.2 AVX AVX2 AVX512F FMA\n",
      "To enable them in other operations, rebuild TensorFlow with the appropriate compiler flags.\n"
     ]
    },
    {
     "name": "stdout",
     "output_type": "stream",
     "text": [
      "Finished building model...\n"
     ]
    },
    {
     "name": "stderr",
     "output_type": "stream",
     "text": [
      "2023-12-12 11:42:27.062985: I tensorflow/core/platform/cpu_feature_guard.cc:193] This TensorFlow binary is optimized with oneAPI Deep Neural Network Library (oneDNN) to use the following CPU instructions in performance-critical operations:  SSE4.1 SSE4.2 AVX AVX2 AVX512F FMA\n",
      "To enable them in other operations, rebuild TensorFlow with the appropriate compiler flags.\n",
      "2023-12-12 11:42:27.066378: I tensorflow/core/common_runtime/process_util.cc:146] Creating new thread pool with default inter op setting: 2. Tune using inter_op_parallelism_threads for best performance.\n"
     ]
    }
   ],
   "source": [
    "import tensorflow as tf\n",
    "from tensorflow.keras.models import Sequential\n",
    "from tensorflow.keras.layers import Flatten, Dense, Conv2D, MaxPooling2D, Dropout\n",
    "\n",
    "# Assuming your image dimensions and channels\n",
    "height = 32  # example height\n",
    "width = 32   # example width\n",
    "channels = 3  # RGB channels\n",
    "\n",
    "\n",
    "\n",
    "# Define the new model\n",
    "model = Sequential([\n",
    "    # First Convolutional Layer with 32 filters, a 3x3 kernel size, 'same' padding, and ReLU activation\n",
    "    Conv2D(32, (3, 3), padding='same', activation='relu', input_shape=(height, width, channels)),\n",
    "    \n",
    "    # MaxPooling to downsample the output of the first Convolutional Layer\n",
    "    MaxPooling2D((2, 2)),\n",
    "    \n",
    "    # Second Convolutional Layer with 64 filters, a 3x3 kernel size, 'same' padding, and ReLU activation\n",
    "    Conv2D(64, (3, 3), padding='same', activation='relu'),\n",
    "    \n",
    "    # MaxPooling to downsample the output of the second Convolutional Layer\n",
    "    MaxPooling2D((2, 2)),\n",
    "    \n",
    "    # Third Convolutional Layer with 128 filters, a 3x3 kernel size, 'same' padding, and ReLU activation\n",
    "    Conv2D(128, (3, 3), padding='same', activation='relu'),\n",
    "    \n",
    "    # MaxPooling to downsample the output of the third Convolutional Layer\n",
    "    MaxPooling2D((2, 2)),\n",
    "    \n",
    "    # Additional Dropout layer after the third Convolutional Layer\n",
    "    Dropout(0.3),  \n",
    "\n",
    "    # Flatten layer to convert the 2D output of the convolutional layers into a 1D array\n",
    "    Flatten(),\n",
    "    \n",
    "    # First Dense (fully connected) layer with 128 units and ReLU activation\n",
    "    Dense(128, activation='relu'),\n",
    "    \n",
    "    # Dropout layer with 50% dropout rate for regularization\n",
    "    Dropout(0.5),\n",
    "    \n",
    "    # Second Dense layer with 64 units and ReLU activation\n",
    "    Dense(64, activation='relu'),\n",
    "    \n",
    "    # Output layer for binary classification using sigmoid activation\n",
    "    Dense(1, activation='sigmoid')\n",
    "])\n",
    "\n",
    "# Compile the model\n",
    "model.compile(optimizer='adam', loss='binary_crossentropy', metrics=['accuracy'])\n",
    "\n",
    "print(\"Finished building model...\")\n",
    "\n"
   ]
  },
  {
   "cell_type": "code",
   "execution_count": 4,
   "id": "fa1608da6f287ba5",
   "metadata": {
    "ExecuteTime": {
     "end_time": "2023-12-01T14:04:04.216917Z",
     "start_time": "2023-12-01T14:04:04.199079Z"
    },
    "collapsed": false,
    "jupyter": {
     "outputs_hidden": false
    }
   },
   "outputs": [],
   "source": [
    "validation_file = './Data/valid.p'\n",
    "\n",
    "with open(validation_file, mode='rb') as f:\n",
    "    valid = pickle.load(f)\n",
    "images_valid, labels_valid = valid['features'], valid['labels']\n",
    "\n",
    "for i in range(len(labels_valid)):\n",
    " \n",
    "    # replace hardik with shardul\n",
    "    if labels_valid[i] < 9:\n",
    "        labels_valid[i] = 0\n",
    "    elif labels_valid[i] >= 9:\n",
    "        labels_valid[i] = 1"
   ]
  },
  {
   "cell_type": "code",
   "execution_count": null,
   "id": "c2e9a867945a54a9",
   "metadata": {
    "ExecuteTime": {
     "end_time": "2023-12-01T14:04:24.417587Z",
     "start_time": "2023-12-01T14:04:04.216220Z"
    },
    "tags": []
   },
   "outputs": [
    {
     "name": "stdout",
     "output_type": "stream",
     "text": [
      "Epoch 1/2\n",
      "  79/1088 [=>............................] - ETA: 4:32 - loss: 0.0142 - accuracy: 0.9953"
     ]
    }
   ],
   "source": [
    "# model.fit(images_train, labels_train, epochs=10, validation_data=(images_valid, labels_valid))\n",
    "model.fit(images_train, labels_train, epochs=1, validation_data=(images_valid, labels_valid))"
   ]
  },
  {
   "cell_type": "code",
   "execution_count": null,
   "id": "c29b9566-01e5-44ca-9a44-dca8ce471e89",
   "metadata": {},
   "outputs": [],
   "source": [
    "# Define the file name for saving the model\n",
    "model_filename = 'Convolution_Model_Saved'\n",
    "\n",
    "# Save the model to a file\n",
    "model.save(model_filename)"
   ]
  },
  {
   "cell_type": "code",
   "execution_count": null,
   "id": "7bbd983f03d40ef3",
   "metadata": {
    "ExecuteTime": {
     "end_time": "2023-12-01T14:04:24.467887Z",
     "start_time": "2023-12-01T14:04:24.416760Z"
    },
    "collapsed": false,
    "jupyter": {
     "outputs_hidden": false
    }
   },
   "outputs": [],
   "source": [
    "test_file = './Data/test.p'\n",
    "\n",
    "with open(test_file, mode='rb') as f:\n",
    "    test = pickle.load(f)\n",
    "images_test, labels_test = test['features'], test['labels']\n",
    "\n",
    "for i in range(len(labels_test)):\n",
    " \n",
    "    # replace hardik with shardul\n",
    "    if labels_test[i] < 9:\n",
    "        labels_test[i] = 0\n",
    "    elif labels_test[i] >= 9:\n",
    "        labels_test[i] = 1"
   ]
  },
  {
   "cell_type": "code",
   "execution_count": null,
   "id": "3857e05dfbbeb494",
   "metadata": {
    "ExecuteTime": {
     "end_time": "2023-12-01T14:04:24.820572Z",
     "start_time": "2023-12-01T14:04:24.470178Z"
    },
    "collapsed": false,
    "jupyter": {
     "outputs_hidden": false
    }
   },
   "outputs": [],
   "source": [
    "test_loss, test_accuracy, f1_score = model.evaluate(images_test, labels_test)"
   ]
  }
 ],
 "metadata": {
  "kernelspec": {
   "display_name": "anaconda-ai-2023-11",
   "language": "python",
   "name": "conda-env-anaconda-ai-2023-11-py"
  },
  "language_info": {
   "codemirror_mode": {
    "name": "ipython",
    "version": 3
   },
   "file_extension": ".py",
   "mimetype": "text/x-python",
   "name": "python",
   "nbconvert_exporter": "python",
   "pygments_lexer": "ipython3",
   "version": "3.10.13"
  }
 },
 "nbformat": 4,
 "nbformat_minor": 5
}
